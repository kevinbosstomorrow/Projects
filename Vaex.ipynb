{
 "cells": [
  {
   "cell_type": "code",
   "execution_count": 2,
   "id": "ef93cd40",
   "metadata": {
    "collapsed": true
   },
   "outputs": [
    {
     "name": "stdout",
     "output_type": "stream",
     "text": [
      "Collecting vaex\n",
      "  Using cached vaex-4.16.0-py3-none-any.whl (4.7 kB)\n",
      "Collecting vaex-astro<0.10,>=0.9.3\n",
      "  Using cached vaex_astro-0.9.3-py3-none-any.whl (20 kB)\n",
      "Collecting vaex-core<4.17,>=4.16.0\n",
      "  Using cached vaex_core-4.16.1-cp39-cp39-win_amd64.whl (2.0 MB)\n",
      "Collecting vaex-jupyter<0.9,>=0.8.1\n",
      "  Using cached vaex_jupyter-0.8.1-py3-none-any.whl (43 kB)\n",
      "Collecting vaex-hdf5<0.15,>=0.13.0\n",
      "  Using cached vaex_hdf5-0.14.1-py3-none-any.whl (16 kB)\n",
      "Collecting vaex-ml<0.19,>=0.18.1\n",
      "  Using cached vaex_ml-0.18.1-py3-none-any.whl (58 kB)\n",
      "Collecting vaex-server<0.9,>=0.8.1\n",
      "  Using cached vaex_server-0.8.1-py3-none-any.whl (23 kB)\n",
      "Collecting vaex-viz<0.6,>=0.5.4\n",
      "  Using cached vaex_viz-0.5.4-py3-none-any.whl (19 kB)\n",
      "Collecting astropy\n",
      "  Using cached astropy-5.2.1-cp39-cp39-win_amd64.whl (6.6 MB)\n",
      "Requirement already satisfied: aplus in d:\\anaconda3\\envs\\env1\\lib\\site-packages (from vaex-core<4.17,>=4.16.0->vaex) (0.11.0)\n",
      "Collecting frozendict!=2.2.0\n",
      "  Using cached frozendict-2.3.4-cp39-cp39-win_amd64.whl (35 kB)\n",
      "Collecting filelock\n",
      "  Using cached filelock-3.9.0-py3-none-any.whl (9.7 kB)\n",
      "Requirement already satisfied: blake3 in d:\\anaconda3\\envs\\env1\\lib\\site-packages (from vaex-core<4.17,>=4.16.0->vaex) (0.3.3)\n",
      "Requirement already satisfied: pydantic>=1.8.0 in d:\\anaconda3\\envs\\env1\\lib\\site-packages (from vaex-core<4.17,>=4.16.0->vaex) (1.10.4)\n",
      "Requirement already satisfied: dask!=2022.4.0 in d:\\anaconda3\\envs\\env1\\lib\\site-packages (from vaex-core<4.17,>=4.16.0->vaex) (2023.1.0)\n",
      "Requirement already satisfied: pandas in d:\\anaconda3\\envs\\env1\\lib\\site-packages (from vaex-core<4.17,>=4.16.0->vaex) (1.5.2)\n",
      "Requirement already satisfied: tabulate>=0.8.3 in d:\\anaconda3\\envs\\env1\\lib\\site-packages (from vaex-core<4.17,>=4.16.0->vaex) (0.9.0)\n",
      "Requirement already satisfied: future>=0.15.2 in d:\\anaconda3\\envs\\env1\\lib\\site-packages (from vaex-core<4.17,>=4.16.0->vaex) (0.18.3)\n",
      "Requirement already satisfied: pyyaml in d:\\anaconda3\\envs\\env1\\lib\\site-packages (from vaex-core<4.17,>=4.16.0->vaex) (6.0)\n",
      "Collecting progressbar2\n",
      "  Using cached progressbar2-4.2.0-py2.py3-none-any.whl (27 kB)\n",
      "Requirement already satisfied: six in d:\\anaconda3\\envs\\env1\\lib\\site-packages (from vaex-core<4.17,>=4.16.0->vaex) (1.16.0)\n",
      "Requirement already satisfied: cloudpickle in d:\\anaconda3\\envs\\env1\\lib\\site-packages (from vaex-core<4.17,>=4.16.0->vaex) (2.0.0)\n",
      "Requirement already satisfied: nest-asyncio>=1.3.3 in d:\\anaconda3\\envs\\env1\\lib\\site-packages (from vaex-core<4.17,>=4.16.0->vaex) (1.5.6)\n",
      "Requirement already satisfied: pyarrow>=5.0.0 in d:\\anaconda3\\envs\\env1\\lib\\site-packages (from vaex-core<4.17,>=4.16.0->vaex) (10.0.1)\n",
      "Requirement already satisfied: rich in d:\\anaconda3\\envs\\env1\\lib\\site-packages (from vaex-core<4.17,>=4.16.0->vaex) (13.1.0)\n",
      "Requirement already satisfied: requests in d:\\anaconda3\\envs\\env1\\lib\\site-packages (from vaex-core<4.17,>=4.16.0->vaex) (2.28.1)\n",
      "Requirement already satisfied: numpy>=1.16 in d:\\anaconda3\\envs\\env1\\lib\\site-packages (from vaex-core<4.17,>=4.16.0->vaex) (1.23.5)\n",
      "Requirement already satisfied: h5py>=2.9 in d:\\anaconda3\\envs\\env1\\lib\\site-packages (from vaex-hdf5<0.15,>=0.13.0->vaex) (3.7.0)\n",
      "Collecting bqplot>=0.10.1\n",
      "  Using cached bqplot-0.12.36-py2.py3-none-any.whl (1.2 MB)\n",
      "Collecting ipyvuetify<2,>=1.2.2\n",
      "  Using cached ipyvuetify-1.8.4-py2.py3-none-any.whl (11.7 MB)\n",
      "Collecting ipympl\n",
      "  Using cached ipympl-0.9.2-py2.py3-none-any.whl (510 kB)\n",
      "Collecting ipyleaflet\n",
      "  Using cached ipyleaflet-0.17.2-py3-none-any.whl (3.7 MB)\n",
      "Collecting xarray\n",
      "  Using cached xarray-2022.12.0-py3-none-any.whl (969 kB)\n",
      "Collecting ipyvolume>=0.4\n",
      "  Using cached ipyvolume-0.5.2-py2.py3-none-any.whl (2.9 MB)\n",
      "Requirement already satisfied: traitlets in d:\\anaconda3\\envs\\env1\\lib\\site-packages (from vaex-ml<0.19,>=0.18.1->vaex) (5.7.1)\n",
      "Collecting numba\n",
      "  Using cached numba-0.56.4-cp39-cp39-win_amd64.whl (2.5 MB)\n",
      "Requirement already satisfied: jinja2 in d:\\anaconda3\\envs\\env1\\lib\\site-packages (from vaex-ml<0.19,>=0.18.1->vaex) (3.1.2)\n",
      "Requirement already satisfied: tornado>4.1 in d:\\anaconda3\\envs\\env1\\lib\\site-packages (from vaex-server<0.9,>=0.8.1->vaex) (6.2)\n",
      "Requirement already satisfied: cachetools in d:\\anaconda3\\envs\\env1\\lib\\site-packages (from vaex-server<0.9,>=0.8.1->vaex) (5.2.1)\n",
      "Collecting uvicorn[standard]\n",
      "  Using cached uvicorn-0.20.0-py3-none-any.whl (56 kB)\n",
      "Collecting fastapi\n",
      "  Using cached fastapi-0.89.1-py3-none-any.whl (55 kB)\n",
      "Collecting matplotlib>=1.3.1\n",
      "  Using cached matplotlib-3.6.3-cp39-cp39-win_amd64.whl (7.2 MB)\n",
      "Requirement already satisfied: pillow in d:\\anaconda3\\envs\\env1\\lib\\site-packages (from vaex-viz<0.6,>=0.5.4->vaex) (9.4.0)\n",
      "Requirement already satisfied: traittypes>=0.0.6 in d:\\anaconda3\\envs\\env1\\lib\\site-packages (from bqplot>=0.10.1->vaex-jupyter<0.9,>=0.8.1->vaex) (0.2.1)\n",
      "Collecting ipywidgets<9,>=7.5.0\n",
      "  Using cached ipywidgets-8.0.4-py3-none-any.whl (137 kB)\n",
      "Requirement already satisfied: packaging>=20.0 in d:\\anaconda3\\envs\\env1\\lib\\site-packages (from dask!=2022.4.0->vaex-core<4.17,>=4.16.0->vaex) (22.0)\n",
      "Requirement already satisfied: toolz>=0.8.2 in d:\\anaconda3\\envs\\env1\\lib\\site-packages (from dask!=2022.4.0->vaex-core<4.17,>=4.16.0->vaex) (0.12.0)\n",
      "Requirement already satisfied: partd>=0.3.10 in d:\\anaconda3\\envs\\env1\\lib\\site-packages (from dask!=2022.4.0->vaex-core<4.17,>=4.16.0->vaex) (1.3.0)\n",
      "Requirement already satisfied: fsspec>=0.6.0 in d:\\anaconda3\\envs\\env1\\lib\\site-packages (from dask!=2022.4.0->vaex-core<4.17,>=4.16.0->vaex) (2022.11.0)\n",
      "Requirement already satisfied: click>=7.0 in d:\\anaconda3\\envs\\env1\\lib\\site-packages (from dask!=2022.4.0->vaex-core<4.17,>=4.16.0->vaex) (8.0.4)\n",
      "Collecting pythreejs>=1.0.0\n",
      "  Using cached pythreejs-2.4.1-py3-none-any.whl (3.3 MB)\n",
      "Requirement already satisfied: ipywebrtc in d:\\anaconda3\\envs\\env1\\lib\\site-packages (from ipyvolume>=0.4->vaex-jupyter<0.9,>=0.8.1->vaex) (0.6.0)\n",
      "Collecting ipyvue<2,>=1.5\n",
      "  Using cached ipyvue-1.8.0-py2.py3-none-any.whl (2.7 MB)\n",
      "Collecting kiwisolver>=1.0.1\n",
      "  Using cached kiwisolver-1.4.4-cp39-cp39-win_amd64.whl (55 kB)\n",
      "Collecting cycler>=0.10\n",
      "  Using cached cycler-0.11.0-py3-none-any.whl (6.4 kB)\n",
      "Collecting contourpy>=1.0.1\n",
      "  Using cached contourpy-1.0.7-cp39-cp39-win_amd64.whl (160 kB)\n",
      "Requirement already satisfied: pyparsing>=2.2.1 in d:\\anaconda3\\envs\\env1\\lib\\site-packages (from matplotlib>=1.3.1->vaex-viz<0.6,>=0.5.4->vaex) (3.0.9)\n",
      "Collecting fonttools>=4.22.0\n",
      "  Using cached fonttools-4.38.0-py3-none-any.whl (965 kB)\n",
      "Requirement already satisfied: python-dateutil>=2.7 in d:\\anaconda3\\envs\\env1\\lib\\site-packages (from matplotlib>=1.3.1->vaex-viz<0.6,>=0.5.4->vaex) (2.8.2)\n",
      "Requirement already satisfied: pytz>=2020.1 in d:\\anaconda3\\envs\\env1\\lib\\site-packages (from pandas->vaex-core<4.17,>=4.16.0->vaex) (2022.7)\n",
      "Requirement already satisfied: typing-extensions>=4.2.0 in d:\\anaconda3\\envs\\env1\\lib\\site-packages (from pydantic>=1.8.0->vaex-core<4.17,>=4.16.0->vaex) (4.4.0)\n",
      "Collecting pyerfa>=2.0\n",
      "  Using cached pyerfa-2.0.0.1-cp39-cp39-win_amd64.whl (366 kB)\n",
      "Collecting starlette==0.22.0\n",
      "  Using cached starlette-0.22.0-py3-none-any.whl (64 kB)\n",
      "Requirement already satisfied: anyio<5,>=3.4.0 in d:\\anaconda3\\envs\\env1\\lib\\site-packages (from starlette==0.22.0->fastapi->vaex-server<0.9,>=0.8.1->vaex) (3.5.0)\n",
      "Collecting branca>=0.5.0\n",
      "  Using cached branca-0.6.0-py3-none-any.whl (24 kB)\n",
      "Requirement already satisfied: xyzservices>=2021.8.1 in d:\\anaconda3\\envs\\env1\\lib\\site-packages (from ipyleaflet->vaex-jupyter<0.9,>=0.8.1->vaex) (2022.9.0)\n",
      "Requirement already satisfied: ipython-genutils in d:\\anaconda3\\envs\\env1\\lib\\site-packages (from ipympl->vaex-jupyter<0.9,>=0.8.1->vaex) (0.2.0)\n",
      "Requirement already satisfied: ipython<9 in d:\\anaconda3\\envs\\env1\\lib\\site-packages (from ipympl->vaex-jupyter<0.9,>=0.8.1->vaex) (7.31.1)\n",
      "Requirement already satisfied: MarkupSafe>=2.0 in d:\\anaconda3\\envs\\env1\\lib\\site-packages (from jinja2->vaex-ml<0.19,>=0.18.1->vaex) (2.1.1)\n",
      "Requirement already satisfied: setuptools in d:\\anaconda3\\envs\\env1\\lib\\site-packages (from numba->vaex-ml<0.19,>=0.18.1->vaex) (65.6.3)\n",
      "Collecting llvmlite<0.40,>=0.39.0dev0\n",
      "  Using cached llvmlite-0.39.1-cp39-cp39-win_amd64.whl (23.2 MB)\n",
      "Requirement already satisfied: python-utils>=3.0.0 in d:\\anaconda3\\envs\\env1\\lib\\site-packages (from progressbar2->vaex-core<4.17,>=4.16.0->vaex) (3.4.5)\n",
      "Requirement already satisfied: idna<4,>=2.5 in d:\\anaconda3\\envs\\env1\\lib\\site-packages (from requests->vaex-core<4.17,>=4.16.0->vaex) (3.4)\n",
      "Requirement already satisfied: urllib3<1.27,>=1.21.1 in d:\\anaconda3\\envs\\env1\\lib\\site-packages (from requests->vaex-core<4.17,>=4.16.0->vaex) (1.26.13)\n",
      "Requirement already satisfied: charset-normalizer<3,>=2 in d:\\anaconda3\\envs\\env1\\lib\\site-packages (from requests->vaex-core<4.17,>=4.16.0->vaex) (2.0.4)\n",
      "Requirement already satisfied: certifi>=2017.4.17 in d:\\anaconda3\\envs\\env1\\lib\\site-packages (from requests->vaex-core<4.17,>=4.16.0->vaex) (2022.12.7)\n",
      "Requirement already satisfied: commonmark<0.10.0,>=0.9.0 in d:\\anaconda3\\envs\\env1\\lib\\site-packages (from rich->vaex-core<4.17,>=4.16.0->vaex) (0.9.1)\n",
      "Requirement already satisfied: pygments<3.0.0,>=2.6.0 in d:\\anaconda3\\envs\\env1\\lib\\site-packages (from rich->vaex-core<4.17,>=4.16.0->vaex) (2.11.2)\n",
      "Collecting h11>=0.8\n",
      "  Using cached h11-0.14.0-py3-none-any.whl (58 kB)\n",
      "Collecting watchfiles>=0.13\n",
      "  Using cached watchfiles-0.18.1-cp37-abi3-win_amd64.whl (264 kB)\n",
      "Requirement already satisfied: colorama>=0.4 in d:\\anaconda3\\envs\\env1\\lib\\site-packages (from uvicorn[standard]->vaex-server<0.9,>=0.8.1->vaex) (0.4.6)\n",
      "Requirement already satisfied: python-dotenv>=0.13 in d:\\anaconda3\\envs\\env1\\lib\\site-packages (from uvicorn[standard]->vaex-server<0.9,>=0.8.1->vaex) (0.21.0)\n",
      "Requirement already satisfied: websockets>=10.4 in d:\\anaconda3\\envs\\env1\\lib\\site-packages (from uvicorn[standard]->vaex-server<0.9,>=0.8.1->vaex) (10.4)\n",
      "Collecting httptools>=0.5.0\n",
      "  Using cached httptools-0.5.0-cp39-cp39-win_amd64.whl (145 kB)\n",
      "Requirement already satisfied: jedi>=0.16 in d:\\anaconda3\\envs\\env1\\lib\\site-packages (from ipython<9->ipympl->vaex-jupyter<0.9,>=0.8.1->vaex) (0.18.1)\n",
      "Requirement already satisfied: prompt-toolkit!=3.0.0,!=3.0.1,<3.1.0,>=2.0.0 in d:\\anaconda3\\envs\\env1\\lib\\site-packages (from ipython<9->ipympl->vaex-jupyter<0.9,>=0.8.1->vaex) (3.0.36)\n",
      "Requirement already satisfied: decorator in d:\\anaconda3\\envs\\env1\\lib\\site-packages (from ipython<9->ipympl->vaex-jupyter<0.9,>=0.8.1->vaex) (5.1.1)\n",
      "Requirement already satisfied: backcall in d:\\anaconda3\\envs\\env1\\lib\\site-packages (from ipython<9->ipympl->vaex-jupyter<0.9,>=0.8.1->vaex) (0.2.0)\n",
      "Requirement already satisfied: matplotlib-inline in d:\\anaconda3\\envs\\env1\\lib\\site-packages (from ipython<9->ipympl->vaex-jupyter<0.9,>=0.8.1->vaex) (0.1.6)\n",
      "Requirement already satisfied: pickleshare in d:\\anaconda3\\envs\\env1\\lib\\site-packages (from ipython<9->ipympl->vaex-jupyter<0.9,>=0.8.1->vaex) (0.7.5)\n",
      "Requirement already satisfied: widgetsnbextension~=4.0 in d:\\anaconda3\\envs\\env1\\lib\\site-packages (from ipywidgets<9,>=7.5.0->bqplot>=0.10.1->vaex-jupyter<0.9,>=0.8.1->vaex) (4.0.5)\n",
      "Requirement already satisfied: ipykernel>=4.5.1 in d:\\anaconda3\\envs\\env1\\lib\\site-packages (from ipywidgets<9,>=7.5.0->bqplot>=0.10.1->vaex-jupyter<0.9,>=0.8.1->vaex) (6.19.2)\n",
      "Collecting jupyterlab-widgets~=3.0\n",
      "  Using cached jupyterlab_widgets-3.0.5-py3-none-any.whl (384 kB)\n",
      "Requirement already satisfied: locket in d:\\anaconda3\\envs\\env1\\lib\\site-packages (from partd>=0.3.10->dask!=2022.4.0->vaex-core<4.17,>=4.16.0->vaex) (1.0.0)\n",
      "Collecting ipydatawidgets>=1.1.1\n",
      "  Using cached ipydatawidgets-4.3.2-py2.py3-none-any.whl (271 kB)\n",
      "Requirement already satisfied: sniffio>=1.1 in d:\\anaconda3\\envs\\env1\\lib\\site-packages (from anyio<5,>=3.4.0->starlette==0.22.0->fastapi->vaex-server<0.9,>=0.8.1->vaex) (1.2.0)\n",
      "Requirement already satisfied: debugpy>=1.0 in d:\\anaconda3\\envs\\env1\\lib\\site-packages (from ipykernel>=4.5.1->ipywidgets<9,>=7.5.0->bqplot>=0.10.1->vaex-jupyter<0.9,>=0.8.1->vaex) (1.5.1)\n",
      "Requirement already satisfied: psutil in d:\\anaconda3\\envs\\env1\\lib\\site-packages (from ipykernel>=4.5.1->ipywidgets<9,>=7.5.0->bqplot>=0.10.1->vaex-jupyter<0.9,>=0.8.1->vaex) (5.9.0)\n",
      "Requirement already satisfied: comm>=0.1.1 in d:\\anaconda3\\envs\\env1\\lib\\site-packages (from ipykernel>=4.5.1->ipywidgets<9,>=7.5.0->bqplot>=0.10.1->vaex-jupyter<0.9,>=0.8.1->vaex) (0.1.2)\n",
      "Requirement already satisfied: pyzmq>=17 in d:\\anaconda3\\envs\\env1\\lib\\site-packages (from ipykernel>=4.5.1->ipywidgets<9,>=7.5.0->bqplot>=0.10.1->vaex-jupyter<0.9,>=0.8.1->vaex) (23.2.0)\n",
      "Requirement already satisfied: jupyter-client>=6.1.12 in d:\\anaconda3\\envs\\env1\\lib\\site-packages (from ipykernel>=4.5.1->ipywidgets<9,>=7.5.0->bqplot>=0.10.1->vaex-jupyter<0.9,>=0.8.1->vaex) (7.4.8)\n",
      "Requirement already satisfied: parso<0.9.0,>=0.8.0 in d:\\anaconda3\\envs\\env1\\lib\\site-packages (from jedi>=0.16->ipython<9->ipympl->vaex-jupyter<0.9,>=0.8.1->vaex) (0.8.3)\n",
      "Requirement already satisfied: wcwidth in d:\\anaconda3\\envs\\env1\\lib\\site-packages (from prompt-toolkit!=3.0.0,!=3.0.1,<3.1.0,>=2.0.0->ipython<9->ipympl->vaex-jupyter<0.9,>=0.8.1->vaex) (0.2.5)\n",
      "Requirement already satisfied: jupyter-core>=4.9.2 in d:\\anaconda3\\envs\\env1\\lib\\site-packages (from jupyter-client>=6.1.12->ipykernel>=4.5.1->ipywidgets<9,>=7.5.0->bqplot>=0.10.1->vaex-jupyter<0.9,>=0.8.1->vaex) (5.1.1)\n",
      "Requirement already satisfied: entrypoints in d:\\anaconda3\\envs\\env1\\lib\\site-packages (from jupyter-client>=6.1.12->ipykernel>=4.5.1->ipywidgets<9,>=7.5.0->bqplot>=0.10.1->vaex-jupyter<0.9,>=0.8.1->vaex) (0.4)\n",
      "Requirement already satisfied: pywin32>=1.0 in d:\\anaconda3\\envs\\env1\\lib\\site-packages (from jupyter-core>=4.9.2->jupyter-client>=6.1.12->ipykernel>=4.5.1->ipywidgets<9,>=7.5.0->bqplot>=0.10.1->vaex-jupyter<0.9,>=0.8.1->vaex) (305.1)\n",
      "Requirement already satisfied: platformdirs>=2.5 in d:\\anaconda3\\envs\\env1\\lib\\site-packages (from jupyter-core>=4.9.2->jupyter-client>=6.1.12->ipykernel>=4.5.1->ipywidgets<9,>=7.5.0->bqplot>=0.10.1->vaex-jupyter<0.9,>=0.8.1->vaex) (2.5.2)\n",
      "Installing collected packages: pyerfa, progressbar2, llvmlite, kiwisolver, jupyterlab-widgets, httptools, h11, frozendict, fonttools, filelock, cycler, contourpy, watchfiles, uvicorn, starlette, numba, matplotlib, branca, astropy, xarray, vaex-core, fastapi, vaex-viz, vaex-server, vaex-ml, vaex-hdf5, vaex-astro, ipywidgets, ipyvue, ipympl, ipyleaflet, ipydatawidgets, bqplot, pythreejs, ipyvuetify, ipyvolume, vaex-jupyter, vaex\n",
      "Successfully installed astropy-5.2.1 bqplot-0.12.36 branca-0.6.0 contourpy-1.0.7 cycler-0.11.0 fastapi-0.89.1 filelock-3.9.0 fonttools-4.38.0 frozendict-2.3.4 h11-0.14.0 httptools-0.5.0 ipydatawidgets-4.3.2 ipyleaflet-0.17.2 ipympl-0.9.2 ipyvolume-0.5.2 ipyvue-1.8.0 ipyvuetify-1.8.4 ipywidgets-8.0.4 jupyterlab-widgets-3.0.5 kiwisolver-1.4.4 llvmlite-0.39.1 matplotlib-3.6.3 numba-0.56.4 progressbar2-4.2.0 pyerfa-2.0.0.1 pythreejs-2.4.1 starlette-0.22.0 uvicorn-0.20.0 vaex-4.16.0 vaex-astro-0.9.3 vaex-core-4.16.1 vaex-hdf5-0.14.1 vaex-jupyter-0.8.1 vaex-ml-0.18.1 vaex-server-0.8.1 vaex-viz-0.5.4 watchfiles-0.18.1 xarray-2022.12.0\n"
     ]
    }
   ],
   "source": [
    "!pip install --upgrade vaex"
   ]
  },
  {
   "cell_type": "markdown",
   "id": "2b059501",
   "metadata": {},
   "source": [
    "* https://github.com/vaexio/vaex/issues/498\n",
    "* load data example https://vaex.readthedocs.io/en/latest/datasets.html\n",
    "* Vaex supports several data sources: https://vaex.readthedocs.io/en/latest/guides/io.html"
   ]
  },
  {
   "cell_type": "code",
   "execution_count": 30,
   "id": "5aff262d",
   "metadata": {},
   "outputs": [],
   "source": [
    "import vaex\n",
    "import time\n",
    "import tensorflow as tf\n",
    "import pandas as pd"
   ]
  },
  {
   "cell_type": "code",
   "execution_count": 10,
   "id": "f33ee705",
   "metadata": {},
   "outputs": [
    {
     "data": {
      "text/plain": [
       "{'vaex': '4.16.0',\n",
       " 'vaex-core': '4.16.1',\n",
       " 'vaex-viz': '0.5.4',\n",
       " 'vaex-hdf5': '0.14.1',\n",
       " 'vaex-server': '0.8.1',\n",
       " 'vaex-astro': '0.9.3',\n",
       " 'vaex-jupyter': '0.8.1',\n",
       " 'vaex-ml': '0.18.1'}"
      ]
     },
     "execution_count": 10,
     "metadata": {},
     "output_type": "execute_result"
    }
   ],
   "source": [
    "vaex.__version__"
   ]
  },
  {
   "cell_type": "code",
   "execution_count": 3,
   "id": "85782949",
   "metadata": {},
   "outputs": [
    {
     "data": {
      "text/html": [
       "<table>\n",
       "<thead>\n",
       "<tr><th>#                              </th><th>PassengerId  </th><th>Survived  </th><th>Pclass  </th><th>Name                                               </th><th>Sex   </th><th>Age  </th><th>SibSp  </th><th>Parch  </th><th>Ticket          </th><th>Fare   </th><th>Cabin  </th><th>Embarked  </th></tr>\n",
       "</thead>\n",
       "<tbody>\n",
       "<tr><td><i style='opacity: 0.6'>0</i>  </td><td>1            </td><td>0         </td><td>3       </td><td>Braund, Mr. Owen Harris                            </td><td>male  </td><td>22.0 </td><td>1      </td><td>0      </td><td>A/5 21171       </td><td>7.25   </td><td>--     </td><td>S         </td></tr>\n",
       "<tr><td><i style='opacity: 0.6'>1</i>  </td><td>2            </td><td>1         </td><td>1       </td><td>&#x27;Cumings, Mrs. John Bradley (Florence Briggs Tha...</td><td>female</td><td>38.0 </td><td>1      </td><td>0      </td><td>PC 17599        </td><td>71.2833</td><td>C85    </td><td>C         </td></tr>\n",
       "<tr><td><i style='opacity: 0.6'>2</i>  </td><td>3            </td><td>1         </td><td>3       </td><td>Heikkinen, Miss. Laina                             </td><td>female</td><td>26.0 </td><td>0      </td><td>0      </td><td>STON/O2. 3101282</td><td>7.925  </td><td>--     </td><td>S         </td></tr>\n",
       "<tr><td><i style='opacity: 0.6'>3</i>  </td><td>4            </td><td>1         </td><td>1       </td><td>Futrelle, Mrs. Jacques Heath (Lily May Peel)       </td><td>female</td><td>35.0 </td><td>1      </td><td>0      </td><td>113803          </td><td>53.1   </td><td>C123   </td><td>S         </td></tr>\n",
       "<tr><td><i style='opacity: 0.6'>4</i>  </td><td>5            </td><td>0         </td><td>3       </td><td>Allen, Mr. William Henry                           </td><td>male  </td><td>35.0 </td><td>0      </td><td>0      </td><td>373450          </td><td>8.05   </td><td>--     </td><td>S         </td></tr>\n",
       "<tr><td>...                            </td><td>...          </td><td>...       </td><td>...     </td><td>...                                                </td><td>...   </td><td>...  </td><td>...    </td><td>...    </td><td>...             </td><td>...    </td><td>...    </td><td>...       </td></tr>\n",
       "<tr><td><i style='opacity: 0.6'>886</i></td><td>887          </td><td>0         </td><td>2       </td><td>Montvila, Rev. Juozas                              </td><td>male  </td><td>27.0 </td><td>0      </td><td>0      </td><td>211536          </td><td>13.0   </td><td>--     </td><td>S         </td></tr>\n",
       "<tr><td><i style='opacity: 0.6'>887</i></td><td>888          </td><td>1         </td><td>1       </td><td>Graham, Miss. Margaret Edith                       </td><td>female</td><td>19.0 </td><td>0      </td><td>0      </td><td>112053          </td><td>30.0   </td><td>B42    </td><td>S         </td></tr>\n",
       "<tr><td><i style='opacity: 0.6'>888</i></td><td>889          </td><td>0         </td><td>3       </td><td>Johnston, Miss. Catherine Helen &quot;Carrie&quot;           </td><td>female</td><td>nan  </td><td>1      </td><td>2      </td><td>W./C. 6607      </td><td>23.45  </td><td>--     </td><td>S         </td></tr>\n",
       "<tr><td><i style='opacity: 0.6'>889</i></td><td>890          </td><td>1         </td><td>1       </td><td>Behr, Mr. Karl Howell                              </td><td>male  </td><td>26.0 </td><td>0      </td><td>0      </td><td>111369          </td><td>30.0   </td><td>C148   </td><td>C         </td></tr>\n",
       "<tr><td><i style='opacity: 0.6'>890</i></td><td>891          </td><td>0         </td><td>3       </td><td>Dooley, Mr. Patrick                                </td><td>male  </td><td>32.0 </td><td>0      </td><td>0      </td><td>370376          </td><td>7.75   </td><td>--     </td><td>Q         </td></tr>\n",
       "</tbody>\n",
       "</table>"
      ],
      "text/plain": [
       "#    PassengerId    Survived    Pclass    Name                                                 Sex     Age    SibSp    Parch    Ticket            Fare     Cabin    Embarked\n",
       "0    1              0           3         Braund, Mr. Owen Harris                              male    22.0   1        0        A/5 21171         7.25     --       S\n",
       "1    2              1           1         'Cumings, Mrs. John Bradley (Florence Briggs Tha...  female  38.0   1        0        PC 17599          71.2833  C85      C\n",
       "2    3              1           3         Heikkinen, Miss. Laina                               female  26.0   0        0        STON/O2. 3101282  7.925    --       S\n",
       "3    4              1           1         Futrelle, Mrs. Jacques Heath (Lily May Peel)         female  35.0   1        0        113803            53.1     C123     S\n",
       "4    5              0           3         Allen, Mr. William Henry                             male    35.0   0        0        373450            8.05     --       S\n",
       "...  ...            ...         ...       ...                                                  ...     ...    ...      ...      ...               ...      ...      ...\n",
       "886  887            0           2         Montvila, Rev. Juozas                                male    27.0   0        0        211536            13.0     --       S\n",
       "887  888            1           1         Graham, Miss. Margaret Edith                         female  19.0   0        0        112053            30.0     B42      S\n",
       "888  889            0           3         Johnston, Miss. Catherine Helen \"Carrie\"             female  nan    1        2        W./C. 6607        23.45    --       S\n",
       "889  890            1           1         Behr, Mr. Karl Howell                                male    26.0   0        0        111369            30.0     C148     C\n",
       "890  891            0           3         Dooley, Mr. Patrick                                  male    32.0   0        0        370376            7.75     --       Q"
      ]
     },
     "execution_count": 3,
     "metadata": {},
     "output_type": "execute_result"
    }
   ],
   "source": [
    "df = vaex.from_csv(r'titanic.csv')\n",
    "df"
   ]
  },
  {
   "cell_type": "markdown",
   "id": "95abc99c",
   "metadata": {},
   "source": [
    "# Read from parquet"
   ]
  },
  {
   "cell_type": "code",
   "execution_count": 46,
   "id": "30e41e7a",
   "metadata": {},
   "outputs": [
    {
     "name": "stdout",
     "output_type": "stream",
     "text": [
      "Wall time: 4.03 ms\n"
     ]
    },
    {
     "data": {
      "text/html": [
       "<table>\n",
       "<thead>\n",
       "<tr><th>#                              </th><th>registration_dttm  </th><th>id  </th><th>first_name  </th><th>last_name  </th><th>email                   </th><th>gender  </th><th>ip_address     </th><th>cc              </th><th>country     </th><th>birthdate  </th><th>salary   </th><th>title                 </th><th>comments  </th></tr>\n",
       "</thead>\n",
       "<tbody>\n",
       "<tr><td><i style='opacity: 0.6'>0</i>  </td><td>2016-02-03 07:55:29</td><td>1   </td><td>Amanda      </td><td>Jordan     </td><td>ajordan0@com.com        </td><td>Female  </td><td>1.197.201.2    </td><td>6759521864920116</td><td>Indonesia   </td><td>3/8/1971   </td><td>49756.53 </td><td>Internal Auditor      </td><td>1E+02     </td></tr>\n",
       "<tr><td><i style='opacity: 0.6'>1</i>  </td><td>2016-02-03 17:04:03</td><td>2   </td><td>Albert      </td><td>Freeman    </td><td>afreeman1@is.gd         </td><td>Male    </td><td>218.111.175.34 </td><td>                </td><td>Canada      </td><td>1/16/1968  </td><td>150280.17</td><td>Accountant IV         </td><td>          </td></tr>\n",
       "<tr><td><i style='opacity: 0.6'>2</i>  </td><td>2016-02-03 01:09:31</td><td>3   </td><td>Evelyn      </td><td>Morgan     </td><td>emorgan2@altervista.org </td><td>Female  </td><td>7.161.136.94   </td><td>6767119071901597</td><td>Russia      </td><td>2/1/1960   </td><td>144972.51</td><td>Structural Engineer   </td><td>          </td></tr>\n",
       "<tr><td><i style='opacity: 0.6'>3</i>  </td><td>2016-02-03 00:36:21</td><td>4   </td><td>Denise      </td><td>Riley      </td><td>driley3@gmpg.org        </td><td>Female  </td><td>140.35.109.83  </td><td>3576031598965625</td><td>China       </td><td>4/8/1997   </td><td>90263.05 </td><td>Senior Cost Accountant</td><td>          </td></tr>\n",
       "<tr><td><i style='opacity: 0.6'>4</i>  </td><td>2016-02-03 05:05:31</td><td>5   </td><td>Carlos      </td><td>Burns      </td><td>cburns4@miitbeian.gov.cn</td><td>        </td><td>169.113.235.40 </td><td>5602256255204850</td><td>South Africa</td><td>           </td><td>--       </td><td>                      </td><td>          </td></tr>\n",
       "<tr><td>...                            </td><td>...                </td><td>... </td><td>...         </td><td>...        </td><td>...                     </td><td>...     </td><td>...            </td><td>...             </td><td>...         </td><td>...        </td><td>...      </td><td>...                   </td><td>...       </td></tr>\n",
       "<tr><td><i style='opacity: 0.6'>995</i></td><td>2016-02-03 10:30:59</td><td>996 </td><td>Dennis      </td><td>Harris     </td><td>dharrisrn@eepurl.com    </td><td>Male    </td><td>178.180.111.236</td><td>374288806662929 </td><td>Greece      </td><td>7/8/1965   </td><td>263399.54</td><td>Editor                </td><td>          </td></tr>\n",
       "<tr><td><i style='opacity: 0.6'>996</i></td><td>2016-02-03 17:16:53</td><td>997 </td><td>Gloria      </td><td>Hamilton   </td><td>ghamiltonro@rambler.ru  </td><td>Female  </td><td>71.50.39.137   </td><td>                </td><td>China       </td><td>4/22/1975  </td><td>83183.54 </td><td>VP Product Management </td><td>          </td></tr>\n",
       "<tr><td><i style='opacity: 0.6'>997</i></td><td>2016-02-03 05:02:20</td><td>998 </td><td>Nancy       </td><td>Morris     </td><td>nmorrisrp@ask.com       </td><td>        </td><td>6.188.121.221  </td><td>3553564071014997</td><td>Sweden      </td><td>5/1/1979   </td><td>--       </td><td>Junior Executive      </td><td>          </td></tr>\n",
       "<tr><td><i style='opacity: 0.6'>998</i></td><td>2016-02-03 02:41:32</td><td>999 </td><td>Annie       </td><td>Daniels    </td><td>adanielsrq@squidoo.com  </td><td>Female  </td><td>97.221.132.35  </td><td>30424803513734  </td><td>China       </td><td>10/9/1991  </td><td>18433.85 </td><td>Editor                </td><td>​          </td></tr>\n",
       "<tr><td><i style='opacity: 0.6'>999</i></td><td>2016-02-03 09:52:18</td><td>1000</td><td>Julie       </td><td>Meyer      </td><td>jmeyerrr@flavors.me     </td><td>Female  </td><td>217.1.147.132  </td><td>374288099198540 </td><td>China       </td><td>           </td><td>222561.13</td><td>                      </td><td>          </td></tr>\n",
       "</tbody>\n",
       "</table>"
      ],
      "text/plain": [
       "#    registration_dttm    id    first_name    last_name    email                     gender    ip_address       cc                country       birthdate    salary     title                   comments\n",
       "0    2016-02-03 07:55:29  1     Amanda        Jordan       ajordan0@com.com          Female    1.197.201.2      6759521864920116  Indonesia     3/8/1971     49756.53   Internal Auditor        1E+02\n",
       "1    2016-02-03 17:04:03  2     Albert        Freeman      afreeman1@is.gd           Male      218.111.175.34                     Canada        1/16/1968    150280.17  Accountant IV\n",
       "2    2016-02-03 01:09:31  3     Evelyn        Morgan       emorgan2@altervista.org   Female    7.161.136.94     6767119071901597  Russia        2/1/1960     144972.51  Structural Engineer\n",
       "3    2016-02-03 00:36:21  4     Denise        Riley        driley3@gmpg.org          Female    140.35.109.83    3576031598965625  China         4/8/1997     90263.05   Senior Cost Accountant\n",
       "4    2016-02-03 05:05:31  5     Carlos        Burns        cburns4@miitbeian.gov.cn            169.113.235.40   5602256255204850  South Africa               --\n",
       "...  ...                  ...   ...           ...          ...                       ...       ...              ...               ...           ...          ...        ...                     ...\n",
       "995  2016-02-03 10:30:59  996   Dennis        Harris       dharrisrn@eepurl.com      Male      178.180.111.236  374288806662929   Greece        7/8/1965     263399.54  Editor\n",
       "996  2016-02-03 17:16:53  997   Gloria        Hamilton     ghamiltonro@rambler.ru    Female    71.50.39.137                       China         4/22/1975    83183.54   VP Product Management\n",
       "997  2016-02-03 05:02:20  998   Nancy         Morris       nmorrisrp@ask.com                   6.188.121.221    3553564071014997  Sweden        5/1/1979     --         Junior Executive\n",
       "998  2016-02-03 02:41:32  999   Annie         Daniels      adanielsrq@squidoo.com    Female    97.221.132.35    30424803513734    China         10/9/1991    18433.85   Editor                  ​\n",
       "999  2016-02-03 09:52:18  1000  Julie         Meyer        jmeyerrr@flavors.me       Female    217.1.147.132    374288099198540   China                      222561.13"
      ]
     },
     "execution_count": 46,
     "metadata": {},
     "output_type": "execute_result"
    }
   ],
   "source": [
    "%%time\n",
    "dfAll = vaex.open('userdata1.parquet')\n",
    "dfAll"
   ]
  },
  {
   "cell_type": "code",
   "execution_count": 47,
   "id": "c2ef8464",
   "metadata": {},
   "outputs": [
    {
     "name": "stdout",
     "output_type": "stream",
     "text": [
      "Wall time: 494 ms\n"
     ]
    }
   ],
   "source": [
    "%%time\n",
    "dfAll = vaex.open('userdata1.parquet')\n",
    "for par in ['userdata2.parquet','userdata3.parquet','userdata4.parquet','userdata5.parquet']:\n",
    "    dfs = vaex.open(par)\n",
    "    dfAll = vaex.concat([dfs,dfAll])"
   ]
  },
  {
   "cell_type": "code",
   "execution_count": 48,
   "id": "c737d742",
   "metadata": {},
   "outputs": [
    {
     "data": {
      "text/html": [
       "<table>\n",
       "<thead>\n",
       "<tr><th>#                                </th><th>registration_dttm  </th><th>id  </th><th>first_name  </th><th>last_name  </th><th>email                        </th><th>gender  </th><th>ip_address     </th><th>cc               </th><th>country      </th><th>birthdate  </th><th>salary   </th><th>title                 </th><th>comments   </th></tr>\n",
       "</thead>\n",
       "<tbody>\n",
       "<tr><td><i style='opacity: 0.6'>0</i>    </td><td>2016-02-04 10:34:07</td><td>1   </td><td>Kelly       </td><td>Ortiz      </td><td>kortiz0@omniture.com         </td><td>Female  </td><td>252.115.158.159</td><td>3537905681760845 </td><td>Russia       </td><td>4/23/1980  </td><td>277302.99</td><td>Nurse                 </td><td>           </td></tr>\n",
       "<tr><td><i style='opacity: 0.6'>1</i>    </td><td>2016-02-04 22:54:01</td><td>2   </td><td>Sharon      </td><td>Carroll    </td><td>scarroll1@disqus.com         </td><td>Female  </td><td>29.217.252.62  </td><td>56022458507191696</td><td>Indonesia    </td><td>8/28/1992  </td><td>209258.05</td><td>Recruiter             </td><td>åß∂ƒ©˙∆˚¬…æ</td></tr>\n",
       "<tr><td><i style='opacity: 0.6'>2</i>    </td><td>2016-02-04 17:59:50</td><td>3   </td><td>Ruth        </td><td>Ross       </td><td>rross2@cbc.ca                </td><td>Female  </td><td>220.224.80.32  </td><td>3589642396435648 </td><td>Benin        </td><td>6/13/1994  </td><td>18270.7  </td><td>Design Engineer       </td><td>           </td></tr>\n",
       "<tr><td><i style='opacity: 0.6'>3</i>    </td><td>2016-02-04 16:03:17</td><td>4   </td><td>Kelly       </td><td>Meyer      </td><td>kmeyer3@cornell.edu          </td><td>Female  </td><td>255.65.123.124 </td><td>                 </td><td>Philippines  </td><td>1/6/1967   </td><td>17485.27 </td><td>Cost Accountant       </td><td>           </td></tr>\n",
       "<tr><td><i style='opacity: 0.6'>4</i>    </td><td>2016-02-04 11:12:24</td><td>5   </td><td>Irene       </td><td>Jordan     </td><td>ijordan4@pagesperso-orange.fr</td><td>Female  </td><td>162.57.23.136  </td><td>3576848317807089 </td><td>United States</td><td>1/4/1997   </td><td>163979.38</td><td>Programmer Analyst III</td><td>           </td></tr>\n",
       "<tr><td>...                              </td><td>...                </td><td>... </td><td>...         </td><td>...        </td><td>...                          </td><td>...     </td><td>...            </td><td>...              </td><td>...          </td><td>...        </td><td>...      </td><td>...                   </td><td>...        </td></tr>\n",
       "<tr><td><i style='opacity: 0.6'>4,995</i></td><td>2016-02-03 10:30:59</td><td>996 </td><td>Dennis      </td><td>Harris     </td><td>dharrisrn@eepurl.com         </td><td>Male    </td><td>178.180.111.236</td><td>374288806662929  </td><td>Greece       </td><td>7/8/1965   </td><td>263399.54</td><td>Editor                </td><td>           </td></tr>\n",
       "<tr><td><i style='opacity: 0.6'>4,996</i></td><td>2016-02-03 17:16:53</td><td>997 </td><td>Gloria      </td><td>Hamilton   </td><td>ghamiltonro@rambler.ru       </td><td>Female  </td><td>71.50.39.137   </td><td>                 </td><td>China        </td><td>4/22/1975  </td><td>83183.54 </td><td>VP Product Management </td><td>           </td></tr>\n",
       "<tr><td><i style='opacity: 0.6'>4,997</i></td><td>2016-02-03 05:02:20</td><td>998 </td><td>Nancy       </td><td>Morris     </td><td>nmorrisrp@ask.com            </td><td>        </td><td>6.188.121.221  </td><td>3553564071014997 </td><td>Sweden       </td><td>5/1/1979   </td><td>--       </td><td>Junior Executive      </td><td>           </td></tr>\n",
       "<tr><td><i style='opacity: 0.6'>4,998</i></td><td>2016-02-03 02:41:32</td><td>999 </td><td>Annie       </td><td>Daniels    </td><td>adanielsrq@squidoo.com       </td><td>Female  </td><td>97.221.132.35  </td><td>30424803513734   </td><td>China        </td><td>10/9/1991  </td><td>18433.85 </td><td>Editor                </td><td>​           </td></tr>\n",
       "<tr><td><i style='opacity: 0.6'>4,999</i></td><td>2016-02-03 09:52:18</td><td>1000</td><td>Julie       </td><td>Meyer      </td><td>jmeyerrr@flavors.me          </td><td>Female  </td><td>217.1.147.132  </td><td>374288099198540  </td><td>China        </td><td>           </td><td>222561.13</td><td>                      </td><td>           </td></tr>\n",
       "</tbody>\n",
       "</table>"
      ],
      "text/plain": [
       "#      registration_dttm    id    first_name    last_name    email                          gender    ip_address       cc                 country        birthdate    salary     title                   comments\n",
       "0      2016-02-04 10:34:07  1     Kelly         Ortiz        kortiz0@omniture.com           Female    252.115.158.159  3537905681760845   Russia         4/23/1980    277302.99  Nurse\n",
       "1      2016-02-04 22:54:01  2     Sharon        Carroll      scarroll1@disqus.com           Female    29.217.252.62    56022458507191696  Indonesia      8/28/1992    209258.05  Recruiter               åß∂ƒ©˙∆˚¬…æ\n",
       "2      2016-02-04 17:59:50  3     Ruth          Ross         rross2@cbc.ca                  Female    220.224.80.32    3589642396435648   Benin          6/13/1994    18270.7    Design Engineer\n",
       "3      2016-02-04 16:03:17  4     Kelly         Meyer        kmeyer3@cornell.edu            Female    255.65.123.124                      Philippines    1/6/1967     17485.27   Cost Accountant\n",
       "4      2016-02-04 11:12:24  5     Irene         Jordan       ijordan4@pagesperso-orange.fr  Female    162.57.23.136    3576848317807089   United States  1/4/1997     163979.38  Programmer Analyst III\n",
       "...    ...                  ...   ...           ...          ...                            ...       ...              ...                ...            ...          ...        ...                     ...\n",
       "4,995  2016-02-03 10:30:59  996   Dennis        Harris       dharrisrn@eepurl.com           Male      178.180.111.236  374288806662929    Greece         7/8/1965     263399.54  Editor\n",
       "4,996  2016-02-03 17:16:53  997   Gloria        Hamilton     ghamiltonro@rambler.ru         Female    71.50.39.137                        China          4/22/1975    83183.54   VP Product Management\n",
       "4,997  2016-02-03 05:02:20  998   Nancy         Morris       nmorrisrp@ask.com                        6.188.121.221    3553564071014997   Sweden         5/1/1979     --         Junior Executive\n",
       "4,998  2016-02-03 02:41:32  999   Annie         Daniels      adanielsrq@squidoo.com         Female    97.221.132.35    30424803513734     China          10/9/1991    18433.85   Editor                  ​\n",
       "4,999  2016-02-03 09:52:18  1000  Julie         Meyer        jmeyerrr@flavors.me            Female    217.1.147.132    374288099198540    China                       222561.13"
      ]
     },
     "execution_count": 48,
     "metadata": {},
     "output_type": "execute_result"
    }
   ],
   "source": [
    "dfAll"
   ]
  },
  {
   "cell_type": "markdown",
   "id": "ae39c411",
   "metadata": {},
   "source": [
    "# Read from huge data on S3"
   ]
  },
  {
   "cell_type": "code",
   "execution_count": 11,
   "id": "3c2a35bf",
   "metadata": {},
   "outputs": [
    {
     "name": "stdout",
     "output_type": "stream",
     "text": [
      "Wall time: 22.3 s\n"
     ]
    },
    {
     "data": {
      "text/html": [
       "<table>\n",
       "<thead>\n",
       "<tr><th>#                                      </th><th>Year  </th><th>Month  </th><th>DayOfMonth  </th><th>DayOfWeek  </th><th>UniqueCarrier  </th><th>TailNum  </th><th>FlightNum  </th><th>Origin  </th><th>Dest  </th><th>CRSDepTime  </th><th>DepTime  </th><th>DepDelay  </th><th>TaxiOut  </th><th>TaxiIn  </th><th>CRSArrTime  </th><th>ArrTime  </th><th>ArrDelay  </th><th>Cancelled  </th><th>CancellationCode  </th><th>Diverted  </th><th>CRSElapsedTime  </th><th>ActualElapsedTime  </th><th>AirTime  </th><th>Distance  </th><th>CarrierDelay  </th><th>WeatherDelay  </th><th>NASDelay  </th><th>SecurityDelay  </th><th>LateAircraftDelay  </th></tr>\n",
       "</thead>\n",
       "<tbody>\n",
       "<tr><td><i style='opacity: 0.6'>0</i>          </td><td>1988  </td><td>1      </td><td>8           </td><td>5          </td><td>PI             </td><td>None     </td><td>930        </td><td>BGM     </td><td>ITH   </td><td>1525        </td><td>1532     </td><td>7         </td><td>--       </td><td>--      </td><td>1545        </td><td>1555     </td><td>10        </td><td>0          </td><td>None              </td><td>0         </td><td>20              </td><td>23                 </td><td>--       </td><td>32        </td><td>--            </td><td>--            </td><td>--        </td><td>--             </td><td>--                 </td></tr>\n",
       "<tr><td><i style='opacity: 0.6'>1</i>          </td><td>1988  </td><td>1      </td><td>9           </td><td>6          </td><td>PI             </td><td>None     </td><td>930        </td><td>BGM     </td><td>ITH   </td><td>1525        </td><td>1522     </td><td>-3        </td><td>--       </td><td>--      </td><td>1545        </td><td>1535     </td><td>-10       </td><td>0          </td><td>None              </td><td>0         </td><td>20              </td><td>13                 </td><td>--       </td><td>32        </td><td>--            </td><td>--            </td><td>--        </td><td>--             </td><td>--                 </td></tr>\n",
       "<tr><td><i style='opacity: 0.6'>2</i>          </td><td>1988  </td><td>1      </td><td>10          </td><td>7          </td><td>PI             </td><td>None     </td><td>930        </td><td>BGM     </td><td>ITH   </td><td>1525        </td><td>1522     </td><td>-3        </td><td>--       </td><td>--      </td><td>1545        </td><td>1534     </td><td>-11       </td><td>0          </td><td>None              </td><td>0         </td><td>20              </td><td>12                 </td><td>--       </td><td>32        </td><td>--            </td><td>--            </td><td>--        </td><td>--             </td><td>--                 </td></tr>\n",
       "<tr><td><i style='opacity: 0.6'>3</i>          </td><td>1988  </td><td>1      </td><td>11          </td><td>1          </td><td>PI             </td><td>None     </td><td>930        </td><td>BGM     </td><td>ITH   </td><td>1525        </td><td>--       </td><td>--        </td><td>--       </td><td>--      </td><td>1545        </td><td>--       </td><td>--        </td><td>1          </td><td>None              </td><td>0         </td><td>20              </td><td>--                 </td><td>--       </td><td>32        </td><td>--            </td><td>--            </td><td>--        </td><td>--             </td><td>--                 </td></tr>\n",
       "<tr><td><i style='opacity: 0.6'>4</i>          </td><td>1988  </td><td>1      </td><td>12          </td><td>2          </td><td>PI             </td><td>None     </td><td>930        </td><td>BGM     </td><td>ITH   </td><td>1525        </td><td>1524     </td><td>-1        </td><td>--       </td><td>--      </td><td>1545        </td><td>1540     </td><td>-5        </td><td>0          </td><td>None              </td><td>0         </td><td>20              </td><td>16                 </td><td>--       </td><td>32        </td><td>--            </td><td>--            </td><td>--        </td><td>--             </td><td>--                 </td></tr>\n",
       "<tr><td>...                                    </td><td>...   </td><td>...    </td><td>...         </td><td>...        </td><td>...            </td><td>...      </td><td>...        </td><td>...     </td><td>...   </td><td>...         </td><td>...      </td><td>...       </td><td>...      </td><td>...     </td><td>...         </td><td>...      </td><td>...       </td><td>...        </td><td>...               </td><td>...       </td><td>...             </td><td>...                </td><td>...      </td><td>...       </td><td>...           </td><td>...           </td><td>...       </td><td>...            </td><td>...                </td></tr>\n",
       "<tr><td><i style='opacity: 0.6'>183,821,921</i></td><td>2018  </td><td>12     </td><td>27          </td><td>4          </td><td>DL             </td><td>N705TW   </td><td>864        </td><td>JFK     </td><td>SLC   </td><td>935         </td><td>929      </td><td>-6        </td><td>28       </td><td>9       </td><td>1311        </td><td>1230     </td><td>-41       </td><td>0          </td><td>None              </td><td>0         </td><td>336             </td><td>301                </td><td>264      </td><td>1990      </td><td>--            </td><td>--            </td><td>--        </td><td>--             </td><td>--                 </td></tr>\n",
       "<tr><td><i style='opacity: 0.6'>183,821,922</i></td><td>2018  </td><td>12     </td><td>27          </td><td>4          </td><td>DL             </td><td>N336NB   </td><td>865        </td><td>MSP     </td><td>SLC   </td><td>1035        </td><td>1030     </td><td>-5        </td><td>14       </td><td>10      </td><td>1240        </td><td>1214     </td><td>-26       </td><td>0          </td><td>None              </td><td>0         </td><td>185             </td><td>164                </td><td>140      </td><td>991       </td><td>--            </td><td>--            </td><td>--        </td><td>--             </td><td>--                 </td></tr>\n",
       "<tr><td><i style='opacity: 0.6'>183,821,923</i></td><td>2018  </td><td>12     </td><td>27          </td><td>4          </td><td>DL             </td><td>N945DN   </td><td>866        </td><td>DEN     </td><td>MSP   </td><td>1054        </td><td>1100     </td><td>6         </td><td>10       </td><td>5       </td><td>1353        </td><td>1350     </td><td>-3        </td><td>0          </td><td>None              </td><td>0         </td><td>119             </td><td>110                </td><td>95       </td><td>680       </td><td>--            </td><td>--            </td><td>--        </td><td>--             </td><td>--                 </td></tr>\n",
       "<tr><td><i style='opacity: 0.6'>183,821,924</i></td><td>2018  </td><td>12     </td><td>27          </td><td>4          </td><td>DL             </td><td>N945DN   </td><td>866        </td><td>MSP     </td><td>DEN   </td><td>850         </td><td>850      </td><td>0         </td><td>15       </td><td>8       </td><td>1010        </td><td>951      </td><td>-19       </td><td>0          </td><td>None              </td><td>0         </td><td>140             </td><td>121                </td><td>98       </td><td>680       </td><td>--            </td><td>--            </td><td>--        </td><td>--             </td><td>--                 </td></tr>\n",
       "<tr><td><i style='opacity: 0.6'>183,821,925</i></td><td>2018  </td><td>12     </td><td>27          </td><td>4          </td><td>DL             </td><td>N901DE   </td><td>867        </td><td>ATL     </td><td>SYR   </td><td>1455        </td><td>1500     </td><td>5         </td><td>19       </td><td>3       </td><td>1703        </td><td>1703     </td><td>0         </td><td>0          </td><td>None              </td><td>0         </td><td>128             </td><td>123                </td><td>101      </td><td>794       </td><td>--            </td><td>--            </td><td>--        </td><td>--             </td><td>--                 </td></tr>\n",
       "</tbody>\n",
       "</table>"
      ],
      "text/plain": [
       "#            Year    Month    DayOfMonth    DayOfWeek    UniqueCarrier    TailNum    FlightNum    Origin    Dest    CRSDepTime    DepTime    DepDelay    TaxiOut    TaxiIn    CRSArrTime    ArrTime    ArrDelay    Cancelled    CancellationCode    Diverted    CRSElapsedTime    ActualElapsedTime    AirTime    Distance    CarrierDelay    WeatherDelay    NASDelay    SecurityDelay    LateAircraftDelay\n",
       "0            1988    1        8             5            PI               None       930          BGM       ITH     1525          1532       7           --         --        1545          1555       10          0            None                0           20                23                   --         32          --              --              --          --               --\n",
       "1            1988    1        9             6            PI               None       930          BGM       ITH     1525          1522       -3          --         --        1545          1535       -10         0            None                0           20                13                   --         32          --              --              --          --               --\n",
       "2            1988    1        10            7            PI               None       930          BGM       ITH     1525          1522       -3          --         --        1545          1534       -11         0            None                0           20                12                   --         32          --              --              --          --               --\n",
       "3            1988    1        11            1            PI               None       930          BGM       ITH     1525          --         --          --         --        1545          --         --          1            None                0           20                --                   --         32          --              --              --          --               --\n",
       "4            1988    1        12            2            PI               None       930          BGM       ITH     1525          1524       -1          --         --        1545          1540       -5          0            None                0           20                16                   --         32          --              --              --          --               --\n",
       "...          ...     ...      ...           ...          ...              ...        ...          ...       ...     ...           ...        ...         ...        ...       ...           ...        ...         ...          ...                 ...         ...               ...                  ...        ...         ...             ...             ...         ...              ...\n",
       "183,821,921  2018    12       27            4            DL               N705TW     864          JFK       SLC     935           929        -6          28         9         1311          1230       -41         0            None                0           336               301                  264        1990        --              --              --          --               --\n",
       "183,821,922  2018    12       27            4            DL               N336NB     865          MSP       SLC     1035          1030       -5          14         10        1240          1214       -26         0            None                0           185               164                  140        991         --              --              --          --               --\n",
       "183,821,923  2018    12       27            4            DL               N945DN     866          DEN       MSP     1054          1100       6           10         5         1353          1350       -3          0            None                0           119               110                  95         680         --              --              --          --               --\n",
       "183,821,924  2018    12       27            4            DL               N945DN     866          MSP       DEN     850           850        0           15         8         1010          951        -19         0            None                0           140               121                  98         680         --              --              --          --               --\n",
       "183,821,925  2018    12       27            4            DL               N901DE     867          ATL       SYR     1455          1500       5           19         3         1703          1703       0           0            None                0           128               123                  101        794         --              --              --          --               --"
      ]
     },
     "execution_count": 11,
     "metadata": {},
     "output_type": "execute_result"
    }
   ],
   "source": [
    "%%time\n",
    "dfs = vaex.open('s3://vaex/airline/us_airline_data_1988_2018.hdf5?anon=true')\n",
    "dfs"
   ]
  },
  {
   "cell_type": "code",
   "execution_count": 13,
   "id": "328742ab",
   "metadata": {},
   "outputs": [
    {
     "data": {
      "text/plain": [
       "(183821926, 29)"
      ]
     },
     "execution_count": 13,
     "metadata": {},
     "output_type": "execute_result"
    }
   ],
   "source": [
    "dfs.shape"
   ]
  },
  {
   "cell_type": "code",
   "execution_count": 15,
   "id": "45345b18",
   "metadata": {},
   "outputs": [
    {
     "data": {
      "text/plain": [
       "array([ 1,  1,  1, ..., 12, 12, 12], dtype=int8)"
      ]
     },
     "execution_count": 15,
     "metadata": {},
     "output_type": "execute_result"
    }
   ],
   "source": [
    "dfs['Month'].values"
   ]
  },
  {
   "cell_type": "code",
   "execution_count": 16,
   "id": "9b502960",
   "metadata": {},
   "outputs": [
    {
     "data": {
      "text/plain": [
       "183821926"
      ]
     },
     "execution_count": 16,
     "metadata": {},
     "output_type": "execute_result"
    }
   ],
   "source": [
    "len(dfs['Month'].values)"
   ]
  },
  {
   "cell_type": "code",
   "execution_count": 18,
   "id": "f8dd661f",
   "metadata": {},
   "outputs": [
    {
     "data": {
      "text/plain": [
       "<tf.Tensor: shape=(183821926,), dtype=float32, numpy=array([ 1.,  1.,  1., ..., 12., 12., 12.], dtype=float32)>"
      ]
     },
     "execution_count": 18,
     "metadata": {},
     "output_type": "execute_result"
    }
   ],
   "source": [
    "label = tf.convert_to_tensor(dfs['Month'].values, dtype=tf.float32)\n",
    "label"
   ]
  },
  {
   "cell_type": "code",
   "execution_count": 25,
   "id": "0336c686",
   "metadata": {},
   "outputs": [
    {
     "data": {
      "text/plain": [
       "<tf.Tensor: shape=(183821926, 4), dtype=float32, numpy=\n",
       "array([[1555.,    0.,    0.,   23.],\n",
       "       [1535.,    0.,    0.,   13.],\n",
       "       [1534.,    0.,    0.,   12.],\n",
       "       ...,\n",
       "       [1350.,    0.,    0.,  110.],\n",
       "       [ 951.,    0.,    0.,  121.],\n",
       "       [1703.,    0.,    0.,  123.]], dtype=float32)>"
      ]
     },
     "execution_count": 25,
     "metadata": {},
     "output_type": "execute_result"
    }
   ],
   "source": [
    "features = tf.convert_to_tensor(dfs[['ArrTime','Cancelled','Diverted','ActualElapsedTime']].values, dtype=tf.float32)\n",
    "features"
   ]
  },
  {
   "cell_type": "code",
   "execution_count": 27,
   "id": "4b34e052",
   "metadata": {
    "scrolled": true
   },
   "outputs": [
    {
     "name": "stdout",
     "output_type": "stream",
     "text": [
      "Epoch 1/2\n",
      "   6904/5744436 [..............................] - ETA: 2:32:25 - loss: 0.0000e+00 - accuracy: 0.0834"
     ]
    },
    {
     "ename": "KeyboardInterrupt",
     "evalue": "",
     "output_type": "error",
     "traceback": [
      "\u001b[1;31m---------------------------------------------------------------------------\u001b[0m",
      "\u001b[1;31mKeyboardInterrupt\u001b[0m                         Traceback (most recent call last)",
      "\u001b[1;32m~\\AppData\\Local\\Temp\\ipykernel_14136\\3807039837.py\u001b[0m in \u001b[0;36m<module>\u001b[1;34m\u001b[0m\n\u001b[0;32m     11\u001b[0m \u001b[1;33m\u001b[0m\u001b[0m\n\u001b[0;32m     12\u001b[0m \u001b[1;31m# Fit the model\u001b[0m\u001b[1;33m\u001b[0m\u001b[1;33m\u001b[0m\u001b[0m\n\u001b[1;32m---> 13\u001b[1;33m \u001b[0mhistory\u001b[0m \u001b[1;33m=\u001b[0m \u001b[0mmodel\u001b[0m\u001b[1;33m.\u001b[0m\u001b[0mfit\u001b[0m\u001b[1;33m(\u001b[0m\u001b[0mfeatures\u001b[0m\u001b[1;33m,\u001b[0m \u001b[0mlabel\u001b[0m\u001b[1;33m,\u001b[0m \u001b[0mepochs\u001b[0m\u001b[1;33m=\u001b[0m\u001b[1;36m2\u001b[0m\u001b[1;33m)\u001b[0m\u001b[1;33m\u001b[0m\u001b[1;33m\u001b[0m\u001b[0m\n\u001b[0m",
      "\u001b[1;32mD:\\anaconda3\\envs\\env1\\lib\\site-packages\\keras\\utils\\traceback_utils.py\u001b[0m in \u001b[0;36merror_handler\u001b[1;34m(*args, **kwargs)\u001b[0m\n\u001b[0;32m     63\u001b[0m         \u001b[0mfiltered_tb\u001b[0m \u001b[1;33m=\u001b[0m \u001b[1;32mNone\u001b[0m\u001b[1;33m\u001b[0m\u001b[1;33m\u001b[0m\u001b[0m\n\u001b[0;32m     64\u001b[0m         \u001b[1;32mtry\u001b[0m\u001b[1;33m:\u001b[0m\u001b[1;33m\u001b[0m\u001b[1;33m\u001b[0m\u001b[0m\n\u001b[1;32m---> 65\u001b[1;33m             \u001b[1;32mreturn\u001b[0m \u001b[0mfn\u001b[0m\u001b[1;33m(\u001b[0m\u001b[1;33m*\u001b[0m\u001b[0margs\u001b[0m\u001b[1;33m,\u001b[0m \u001b[1;33m**\u001b[0m\u001b[0mkwargs\u001b[0m\u001b[1;33m)\u001b[0m\u001b[1;33m\u001b[0m\u001b[1;33m\u001b[0m\u001b[0m\n\u001b[0m\u001b[0;32m     66\u001b[0m         \u001b[1;32mexcept\u001b[0m \u001b[0mException\u001b[0m \u001b[1;32mas\u001b[0m \u001b[0me\u001b[0m\u001b[1;33m:\u001b[0m\u001b[1;33m\u001b[0m\u001b[1;33m\u001b[0m\u001b[0m\n\u001b[0;32m     67\u001b[0m             \u001b[0mfiltered_tb\u001b[0m \u001b[1;33m=\u001b[0m \u001b[0m_process_traceback_frames\u001b[0m\u001b[1;33m(\u001b[0m\u001b[0me\u001b[0m\u001b[1;33m.\u001b[0m\u001b[0m__traceback__\u001b[0m\u001b[1;33m)\u001b[0m\u001b[1;33m\u001b[0m\u001b[1;33m\u001b[0m\u001b[0m\n",
      "\u001b[1;32mD:\\anaconda3\\envs\\env1\\lib\\site-packages\\keras\\engine\\training.py\u001b[0m in \u001b[0;36mfit\u001b[1;34m(self, x, y, batch_size, epochs, verbose, callbacks, validation_split, validation_data, shuffle, class_weight, sample_weight, initial_epoch, steps_per_epoch, validation_steps, validation_batch_size, validation_freq, max_queue_size, workers, use_multiprocessing)\u001b[0m\n\u001b[0;32m   1648\u001b[0m                         ):\n\u001b[0;32m   1649\u001b[0m                             \u001b[0mcallbacks\u001b[0m\u001b[1;33m.\u001b[0m\u001b[0mon_train_batch_begin\u001b[0m\u001b[1;33m(\u001b[0m\u001b[0mstep\u001b[0m\u001b[1;33m)\u001b[0m\u001b[1;33m\u001b[0m\u001b[1;33m\u001b[0m\u001b[0m\n\u001b[1;32m-> 1650\u001b[1;33m                             \u001b[0mtmp_logs\u001b[0m \u001b[1;33m=\u001b[0m \u001b[0mself\u001b[0m\u001b[1;33m.\u001b[0m\u001b[0mtrain_function\u001b[0m\u001b[1;33m(\u001b[0m\u001b[0miterator\u001b[0m\u001b[1;33m)\u001b[0m\u001b[1;33m\u001b[0m\u001b[1;33m\u001b[0m\u001b[0m\n\u001b[0m\u001b[0;32m   1651\u001b[0m                             \u001b[1;32mif\u001b[0m \u001b[0mdata_handler\u001b[0m\u001b[1;33m.\u001b[0m\u001b[0mshould_sync\u001b[0m\u001b[1;33m:\u001b[0m\u001b[1;33m\u001b[0m\u001b[1;33m\u001b[0m\u001b[0m\n\u001b[0;32m   1652\u001b[0m                                 \u001b[0mcontext\u001b[0m\u001b[1;33m.\u001b[0m\u001b[0masync_wait\u001b[0m\u001b[1;33m(\u001b[0m\u001b[1;33m)\u001b[0m\u001b[1;33m\u001b[0m\u001b[1;33m\u001b[0m\u001b[0m\n",
      "\u001b[1;32mD:\\anaconda3\\envs\\env1\\lib\\site-packages\\tensorflow\\python\\util\\traceback_utils.py\u001b[0m in \u001b[0;36merror_handler\u001b[1;34m(*args, **kwargs)\u001b[0m\n\u001b[0;32m    148\u001b[0m     \u001b[0mfiltered_tb\u001b[0m \u001b[1;33m=\u001b[0m \u001b[1;32mNone\u001b[0m\u001b[1;33m\u001b[0m\u001b[1;33m\u001b[0m\u001b[0m\n\u001b[0;32m    149\u001b[0m     \u001b[1;32mtry\u001b[0m\u001b[1;33m:\u001b[0m\u001b[1;33m\u001b[0m\u001b[1;33m\u001b[0m\u001b[0m\n\u001b[1;32m--> 150\u001b[1;33m       \u001b[1;32mreturn\u001b[0m \u001b[0mfn\u001b[0m\u001b[1;33m(\u001b[0m\u001b[1;33m*\u001b[0m\u001b[0margs\u001b[0m\u001b[1;33m,\u001b[0m \u001b[1;33m**\u001b[0m\u001b[0mkwargs\u001b[0m\u001b[1;33m)\u001b[0m\u001b[1;33m\u001b[0m\u001b[1;33m\u001b[0m\u001b[0m\n\u001b[0m\u001b[0;32m    151\u001b[0m     \u001b[1;32mexcept\u001b[0m \u001b[0mException\u001b[0m \u001b[1;32mas\u001b[0m \u001b[0me\u001b[0m\u001b[1;33m:\u001b[0m\u001b[1;33m\u001b[0m\u001b[1;33m\u001b[0m\u001b[0m\n\u001b[0;32m    152\u001b[0m       \u001b[0mfiltered_tb\u001b[0m \u001b[1;33m=\u001b[0m \u001b[0m_process_traceback_frames\u001b[0m\u001b[1;33m(\u001b[0m\u001b[0me\u001b[0m\u001b[1;33m.\u001b[0m\u001b[0m__traceback__\u001b[0m\u001b[1;33m)\u001b[0m\u001b[1;33m\u001b[0m\u001b[1;33m\u001b[0m\u001b[0m\n",
      "\u001b[1;32mD:\\anaconda3\\envs\\env1\\lib\\site-packages\\tensorflow\\python\\eager\\polymorphic_function\\polymorphic_function.py\u001b[0m in \u001b[0;36m__call__\u001b[1;34m(self, *args, **kwds)\u001b[0m\n\u001b[0;32m    878\u001b[0m \u001b[1;33m\u001b[0m\u001b[0m\n\u001b[0;32m    879\u001b[0m       \u001b[1;32mwith\u001b[0m \u001b[0mOptionalXlaContext\u001b[0m\u001b[1;33m(\u001b[0m\u001b[0mself\u001b[0m\u001b[1;33m.\u001b[0m\u001b[0m_jit_compile\u001b[0m\u001b[1;33m)\u001b[0m\u001b[1;33m:\u001b[0m\u001b[1;33m\u001b[0m\u001b[1;33m\u001b[0m\u001b[0m\n\u001b[1;32m--> 880\u001b[1;33m         \u001b[0mresult\u001b[0m \u001b[1;33m=\u001b[0m \u001b[0mself\u001b[0m\u001b[1;33m.\u001b[0m\u001b[0m_call\u001b[0m\u001b[1;33m(\u001b[0m\u001b[1;33m*\u001b[0m\u001b[0margs\u001b[0m\u001b[1;33m,\u001b[0m \u001b[1;33m**\u001b[0m\u001b[0mkwds\u001b[0m\u001b[1;33m)\u001b[0m\u001b[1;33m\u001b[0m\u001b[1;33m\u001b[0m\u001b[0m\n\u001b[0m\u001b[0;32m    881\u001b[0m \u001b[1;33m\u001b[0m\u001b[0m\n\u001b[0;32m    882\u001b[0m       \u001b[0mnew_tracing_count\u001b[0m \u001b[1;33m=\u001b[0m \u001b[0mself\u001b[0m\u001b[1;33m.\u001b[0m\u001b[0mexperimental_get_tracing_count\u001b[0m\u001b[1;33m(\u001b[0m\u001b[1;33m)\u001b[0m\u001b[1;33m\u001b[0m\u001b[1;33m\u001b[0m\u001b[0m\n",
      "\u001b[1;32mD:\\anaconda3\\envs\\env1\\lib\\site-packages\\tensorflow\\python\\eager\\polymorphic_function\\polymorphic_function.py\u001b[0m in \u001b[0;36m_call\u001b[1;34m(self, *args, **kwds)\u001b[0m\n\u001b[0;32m    910\u001b[0m       \u001b[1;31m# In this case we have created variables on the first call, so we run the\u001b[0m\u001b[1;33m\u001b[0m\u001b[1;33m\u001b[0m\u001b[0m\n\u001b[0;32m    911\u001b[0m       \u001b[1;31m# defunned version which is guaranteed to never create variables.\u001b[0m\u001b[1;33m\u001b[0m\u001b[1;33m\u001b[0m\u001b[0m\n\u001b[1;32m--> 912\u001b[1;33m       \u001b[1;32mreturn\u001b[0m \u001b[0mself\u001b[0m\u001b[1;33m.\u001b[0m\u001b[0m_no_variable_creation_fn\u001b[0m\u001b[1;33m(\u001b[0m\u001b[1;33m*\u001b[0m\u001b[0margs\u001b[0m\u001b[1;33m,\u001b[0m \u001b[1;33m**\u001b[0m\u001b[0mkwds\u001b[0m\u001b[1;33m)\u001b[0m  \u001b[1;31m# pylint: disable=not-callable\u001b[0m\u001b[1;33m\u001b[0m\u001b[1;33m\u001b[0m\u001b[0m\n\u001b[0m\u001b[0;32m    913\u001b[0m     \u001b[1;32melif\u001b[0m \u001b[0mself\u001b[0m\u001b[1;33m.\u001b[0m\u001b[0m_variable_creation_fn\u001b[0m \u001b[1;32mis\u001b[0m \u001b[1;32mnot\u001b[0m \u001b[1;32mNone\u001b[0m\u001b[1;33m:\u001b[0m\u001b[1;33m\u001b[0m\u001b[1;33m\u001b[0m\u001b[0m\n\u001b[0;32m    914\u001b[0m       \u001b[1;31m# Release the lock early so that multiple threads can perform the call\u001b[0m\u001b[1;33m\u001b[0m\u001b[1;33m\u001b[0m\u001b[0m\n",
      "\u001b[1;32mD:\\anaconda3\\envs\\env1\\lib\\site-packages\\tensorflow\\python\\eager\\polymorphic_function\\tracing_compiler.py\u001b[0m in \u001b[0;36m__call__\u001b[1;34m(self, *args, **kwargs)\u001b[0m\n\u001b[0;32m    132\u001b[0m       (concrete_function,\n\u001b[0;32m    133\u001b[0m        filtered_flat_args) = self._maybe_define_function(args, kwargs)\n\u001b[1;32m--> 134\u001b[1;33m     return concrete_function._call_flat(\n\u001b[0m\u001b[0;32m    135\u001b[0m         filtered_flat_args, captured_inputs=concrete_function.captured_inputs)  # pylint: disable=protected-access\n\u001b[0;32m    136\u001b[0m \u001b[1;33m\u001b[0m\u001b[0m\n",
      "\u001b[1;32mD:\\anaconda3\\envs\\env1\\lib\\site-packages\\tensorflow\\python\\eager\\polymorphic_function\\monomorphic_function.py\u001b[0m in \u001b[0;36m_call_flat\u001b[1;34m(self, args, captured_inputs, cancellation_manager)\u001b[0m\n\u001b[0;32m   1743\u001b[0m         and executing_eagerly):\n\u001b[0;32m   1744\u001b[0m       \u001b[1;31m# No tape is watching; skip to running the function.\u001b[0m\u001b[1;33m\u001b[0m\u001b[1;33m\u001b[0m\u001b[0m\n\u001b[1;32m-> 1745\u001b[1;33m       return self._build_call_outputs(self._inference_function.call(\n\u001b[0m\u001b[0;32m   1746\u001b[0m           ctx, args, cancellation_manager=cancellation_manager))\n\u001b[0;32m   1747\u001b[0m     forward_backward = self._select_forward_and_backward_functions(\n",
      "\u001b[1;32mD:\\anaconda3\\envs\\env1\\lib\\site-packages\\tensorflow\\python\\eager\\polymorphic_function\\monomorphic_function.py\u001b[0m in \u001b[0;36mcall\u001b[1;34m(self, ctx, args, cancellation_manager)\u001b[0m\n\u001b[0;32m    376\u001b[0m       \u001b[1;32mwith\u001b[0m \u001b[0m_InterpolateFunctionError\u001b[0m\u001b[1;33m(\u001b[0m\u001b[0mself\u001b[0m\u001b[1;33m)\u001b[0m\u001b[1;33m:\u001b[0m\u001b[1;33m\u001b[0m\u001b[1;33m\u001b[0m\u001b[0m\n\u001b[0;32m    377\u001b[0m         \u001b[1;32mif\u001b[0m \u001b[0mcancellation_manager\u001b[0m \u001b[1;32mis\u001b[0m \u001b[1;32mNone\u001b[0m\u001b[1;33m:\u001b[0m\u001b[1;33m\u001b[0m\u001b[1;33m\u001b[0m\u001b[0m\n\u001b[1;32m--> 378\u001b[1;33m           outputs = execute.execute(\n\u001b[0m\u001b[0;32m    379\u001b[0m               \u001b[0mstr\u001b[0m\u001b[1;33m(\u001b[0m\u001b[0mself\u001b[0m\u001b[1;33m.\u001b[0m\u001b[0msignature\u001b[0m\u001b[1;33m.\u001b[0m\u001b[0mname\u001b[0m\u001b[1;33m)\u001b[0m\u001b[1;33m,\u001b[0m\u001b[1;33m\u001b[0m\u001b[1;33m\u001b[0m\u001b[0m\n\u001b[0;32m    380\u001b[0m               \u001b[0mnum_outputs\u001b[0m\u001b[1;33m=\u001b[0m\u001b[0mself\u001b[0m\u001b[1;33m.\u001b[0m\u001b[0m_num_outputs\u001b[0m\u001b[1;33m,\u001b[0m\u001b[1;33m\u001b[0m\u001b[1;33m\u001b[0m\u001b[0m\n",
      "\u001b[1;32mD:\\anaconda3\\envs\\env1\\lib\\site-packages\\tensorflow\\python\\eager\\execute.py\u001b[0m in \u001b[0;36mquick_execute\u001b[1;34m(op_name, num_outputs, inputs, attrs, ctx, name)\u001b[0m\n\u001b[0;32m     50\u001b[0m   \u001b[1;32mtry\u001b[0m\u001b[1;33m:\u001b[0m\u001b[1;33m\u001b[0m\u001b[1;33m\u001b[0m\u001b[0m\n\u001b[0;32m     51\u001b[0m     \u001b[0mctx\u001b[0m\u001b[1;33m.\u001b[0m\u001b[0mensure_initialized\u001b[0m\u001b[1;33m(\u001b[0m\u001b[1;33m)\u001b[0m\u001b[1;33m\u001b[0m\u001b[1;33m\u001b[0m\u001b[0m\n\u001b[1;32m---> 52\u001b[1;33m     tensors = pywrap_tfe.TFE_Py_Execute(ctx._handle, device_name, op_name,\n\u001b[0m\u001b[0;32m     53\u001b[0m                                         inputs, attrs, num_outputs)\n\u001b[0;32m     54\u001b[0m   \u001b[1;32mexcept\u001b[0m \u001b[0mcore\u001b[0m\u001b[1;33m.\u001b[0m\u001b[0m_NotOkStatusException\u001b[0m \u001b[1;32mas\u001b[0m \u001b[0me\u001b[0m\u001b[1;33m:\u001b[0m\u001b[1;33m\u001b[0m\u001b[1;33m\u001b[0m\u001b[0m\n",
      "\u001b[1;31mKeyboardInterrupt\u001b[0m: "
     ]
    }
   ],
   "source": [
    "#set up the model \n",
    "model = tf.keras.Sequential([\n",
    "  tf.keras.layers.Dense(2, activation=tf.keras.activations.relu), \n",
    "  tf.keras.layers.Dense(1, activation=tf.keras.activations.sigmoid) \n",
    "])\n",
    "\n",
    "# Compile the model\n",
    "model.compile(loss=tf.keras.losses.categorical_crossentropy,\n",
    "                optimizer=tf.keras.optimizers.Adam(),\n",
    "                metrics=['accuracy'])\n",
    "\n",
    "\n",
    "# Fit the model\n",
    "history = model.fit(features, label, epochs=2)"
   ]
  }
 ],
 "metadata": {
  "kernelspec": {
   "display_name": "Python 3 (ipykernel)",
   "language": "python",
   "name": "python3"
  },
  "language_info": {
   "codemirror_mode": {
    "name": "ipython",
    "version": 3
   },
   "file_extension": ".py",
   "mimetype": "text/x-python",
   "name": "python",
   "nbconvert_exporter": "python",
   "pygments_lexer": "ipython3",
   "version": "3.9.15"
  },
  "toc": {
   "base_numbering": 1,
   "nav_menu": {},
   "number_sections": true,
   "sideBar": true,
   "skip_h1_title": false,
   "title_cell": "Table of Contents",
   "title_sidebar": "Contents",
   "toc_cell": false,
   "toc_position": {
    "height": "calc(100% - 180px)",
    "left": "10px",
    "top": "150px",
    "width": "384px"
   },
   "toc_section_display": true,
   "toc_window_display": true
  }
 },
 "nbformat": 4,
 "nbformat_minor": 5
}
